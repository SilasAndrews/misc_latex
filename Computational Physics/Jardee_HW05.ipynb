{
 "cells": [
  {
   "cell_type": "code",
   "execution_count": 1,
   "metadata": {},
   "outputs": [],
   "source": [
    "import numpy as np\n",
    "import scipy.optimize"
   ]
  },
  {
   "cell_type": "code",
   "execution_count": 2,
   "metadata": {},
   "outputs": [],
   "source": [
    "def b_wire(x, y, I):\n",
    "    \"\"\"\n",
    "    Finds the magnetic field at point (x,y) from a wire of current 'I' located at the origin.\n",
    "    Inputs\n",
    "    ----------\n",
    "    x: x value (m)\n",
    "    y: y value (m)\n",
    "    \n",
    "    Output\n",
    "    ----------\n",
    "    b_field: Array of the Magnetic field at (x,y), b_field[0] is the x component b_field[1] is the y. \n",
    "    \"\"\"\n",
    "    #I Current (A) negative is into the page, possitive is out of the page\n",
    "    mu = 4*np.pi*10**-7 #permeability of free space (H/m or T⋅m/A)\n",
    "    s = np.sqrt(x**2 + y**2)\n",
    "    theta = np.arctan2(y, x) #Remember arctan2 has inputs (y,x) for some reason.\n",
    "    phi_hat = np.array([-np.sin(theta), np.cos(theta)])\n",
    "    b_field = mu*I / (2*np.pi * s) * phi_hat\n",
    "    return b_field"
   ]
  },
  {
   "cell_type": "code",
   "execution_count": 3,
   "metadata": {},
   "outputs": [],
   "source": [
    "#Ideal nerd build:\n",
    "#def wire(I,i):\n",
    "#    return lambda x,y: b_wire(x-I[0],y-I[1], I[2])[i]\n",
    "\n",
    "#def b_x(I1,I2,I3,I4, i):\n",
    "#    return lambda x,y: np.abs(wire(I1,0)(x,y)+wire(I2,0)(x,y)+wire(I3,0)(x,y)+wire(I4,0)(x,y))\n",
    "\n",
    "#def b_y(I1,I2,I3,I4):\n",
    "#    return  lambda y,x: np.abs(wire(I1,1)(x,y)+wire(I2,1)(x,y)+wire(I3,1)(x,y)+wire(I4,1)(x,y))\n",
    "\n",
    "#opt = lambda x,y,func : float(scipy.optimize.fmin(func, x, args = (y,), xtol=1e-3, ftol=1e-3, disp=0))\n"
   ]
  },
  {
   "cell_type": "code",
   "execution_count": 4,
   "metadata": {},
   "outputs": [],
   "source": [
    "#Right now I'm challanging myself to understand and use lambda functions reliably, so I wrote all this code in lambda's\n",
    "#I can tell you that I know them a lot better now\n",
    "\n",
    "#Calculates the b_field for the given wire format of: (x-loc, y-loc, current)\n",
    "def wire(I,i):\n",
    "    return lambda x,y: b_wire(x-I[0],y-I[1], I[2])[i]\n",
    "\n",
    "#building a function to calc the x direction with a given x first with abstract points and charges\n",
    "def b_x(I1,I2,I3,I4):\n",
    "    wire1 = wire(I1,0)\n",
    "    wire2 = wire(I2,0)\n",
    "    wire3 = wire(I3,0)\n",
    "    wire4 = wire(I4,0)\n",
    "    return  lambda x,y: np.abs(wire1(x,y)+wire2(x,y)+wire3(x,y)+wire4(x,y))       #x free variable\n",
    "\n",
    "\n",
    "#building a function to calc the x direction with a given x first with abstract points and charges\n",
    "#the same exact code as b_x, except it pulls the y value and returns a function that uses the y value first\n",
    "def b_y(I1,I2,I3,I4):\n",
    "    wire1 = wire(I1,1)\n",
    "    wire2 = wire(I2,1)\n",
    "    wire3 = wire(I3,1)\n",
    "    wire4 = wire(I4,1)\n",
    "    return  lambda y,x: np.abs(wire1(x,y)+wire2(x,y)+wire3(x,y)+wire4(x,y))       #y free variable\n",
    "\n",
    "\n",
    "\n",
    "\"\"\"\n",
    "    Expression to return the min of the given function\n",
    "    Inputs:\n",
    "    -----------\n",
    "    x: The indpendent variable to vary\n",
    "    y: The fixed variable required in the function \n",
    "    func: The name of the function to minimize\n",
    "    \n",
    "    Output:\n",
    "    ----------\n",
    "    x_min: The minimum value, within an error of 1e-6, of the given function\n",
    "\n",
    "\"\"\"\n",
    "\n",
    "opt = lambda x,y,func : float(scipy.optimize.fmin(func, x, args = (y,), xtol=1e-6, ftol=1e-6, disp=0))\n"
   ]
  },
  {
   "cell_type": "code",
   "execution_count": 5,
   "metadata": {},
   "outputs": [],
   "source": [
    "#I was taught to always build in a main() function. Since I built this a lot more like a classical code, I added one\n",
    "\n",
    "def main():\n",
    "    #Giving initial points for the first map - all distances are in meters and currents in ampere\n",
    "    #            [x-loc, y-loc, current]\n",
    "    first_pt =   [0.5,0.5,-10]\n",
    "    second_pt =  [0,0.5,10]\n",
    "    third_pt =   [0.5,0,10]\n",
    "    fourth_pt =  [0,0,-10]\n",
    "    \n",
    "    #Creating the x and y functions\n",
    "    fixedx = b_x(first_pt, second_pt, third_pt, fourth_pt)\n",
    "    fixedy = b_y(first_pt, second_pt, third_pt, fourth_pt)           \n",
    "           \n",
    "    \n",
    "    (guess_x, guess_y) = (0.2, 0.2)       #Initial Guess    \n",
    "    \n",
    "    #From simple analysis, there is only one well, so we can just do one min in each direction\n",
    "    guess_x = opt(guess_x, guess_y,fixedx)\n",
    "    guess_y = opt(guess_y, guess_x,fixedy)\n",
    "    print(\"For the first (nice) setup:\")\n",
    "    print(\"The zero point is: ({:.3f}m, {:.3f}m)\\n\".format(guess_x, guess_y))\n",
    "    \n",
    "    \n",
    "    #Giving initial points for the second map\n",
    "    first_pt =   [0.52,0.43,-10.3]\n",
    "    second_pt =  [0.07,0.45,8.9]\n",
    "    third_pt =   [0,0,-9.9]\n",
    "    fourth_pt =  [0.47,-0.08,12.4]\n",
    "    \n",
    "    #Creating the x and y functions\n",
    "    fixedx = b_x(first_pt, second_pt, third_pt, fourth_pt)\n",
    "    fixedy = b_y(first_pt, second_pt, third_pt, fourth_pt)\n",
    "    \n",
    "    (guess_x, guess_y) = (0.2, 0.2)       #Initial Guess\n",
    "    \n",
    "    guess_x = opt(guess_x, guess_y,fixedx)\n",
    "    guess_y = opt(guess_y, guess_x,fixedy)\n",
    "    print(\"For the second (ugly) setup:\")\n",
    "    print(\"The zero point is: ({:.3f}m, {:.3f}m)\".format(guess_x, guess_y))\n"
   ]
  },
  {
   "cell_type": "code",
   "execution_count": 6,
   "metadata": {},
   "outputs": [
    {
     "name": "stdout",
     "output_type": "stream",
     "text": [
      "For the first (nice) setup:\n",
      "The zero point is: (0.250m, 0.250m)\n",
      "\n",
      "For the second (ugly) setup:\n",
      "The zero point is: (0.240m, 0.221m)\n"
     ]
    }
   ],
   "source": [
    "#Run that sucker!\n",
    "main()"
   ]
  }
 ],
 "metadata": {
  "kernelspec": {
   "display_name": "Python 3",
   "language": "python",
   "name": "python3"
  },
  "language_info": {
   "codemirror_mode": {
    "name": "ipython",
    "version": 3
   },
   "file_extension": ".py",
   "mimetype": "text/x-python",
   "name": "python",
   "nbconvert_exporter": "python",
   "pygments_lexer": "ipython3",
   "version": "3.8.3"
  }
 },
 "nbformat": 4,
 "nbformat_minor": 4
}
