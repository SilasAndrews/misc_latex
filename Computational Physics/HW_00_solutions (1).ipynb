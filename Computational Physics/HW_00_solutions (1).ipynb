{
 "cells": [
  {
   "cell_type": "markdown",
   "metadata": {},
   "source": [
    "# HW 0 Solutions."
   ]
  },
  {
   "cell_type": "markdown",
   "metadata": {},
   "source": [
    "### a) "
   ]
  },
  {
   "cell_type": "markdown",
   "metadata": {},
   "source": [
    "First thing I want to do is convert the given values into mks, we're physisits, we never deal with imperioal units. Pitchers mound is 18.44 meters away from home plate, and raised 0.254 meters above the ground. The ball is released 1.524 meters above the top of the pitchers mound.  The strike zone is 0.762 meters above the groud. \n",
    "\n",
    "I'm going to pick the origin of my coordinate system to be the ground on top of the pitchers mound. So the ball will be launched at x_launch, and needs to pass x_sz to be a strike. \n",
    "\n",
    "The launch speed, $v_{0}$ is 22.35 m/s"
   ]
  },
  {
   "cell_type": "code",
   "execution_count": 1,
   "metadata": {
    "collapsed": true
   },
   "outputs": [],
   "source": [
    "x_launch = [0, 1.778]\n",
    "x_sz = [18.44, .762]\n",
    "v_0 = 22.35"
   ]
  },
  {
   "cell_type": "markdown",
   "metadata": {},
   "source": [
    "I want to use the standard projectile motion equations.\n",
    "\n",
    "$x_f = x_i + v_{0x} t + \\frac{1}{2}a_x t^2$\n",
    "\n",
    "$y_f = y_i + v_{0y} t + \\frac{1}{2}a_y t^2$"
   ]
  },
  {
   "cell_type": "markdown",
   "metadata": {},
   "source": [
    "For our problem x_launch = x_i, and x_sz = x_f. This gives us two equations and two unknowns that we can solve for.\n",
    "\n",
    "After doing a little bit of algebra we end up with an equation for theta. \n",
    "\n",
    "$y_f = y_i + v_0 \\sin(\\theta) \\frac{\\Delta x}{v_0 \\cos(\\theta)} + \\frac{1}{2}a_y (\\frac{\\Delta x}{v_0 \\cos(\\theta)})^2$\n",
    "\n",
    "Where $\\Delta x = x_f - x_i$. We know all of these varriables except for theta. Now the problem is that this equation can't be solved by hand. But that's why we use computers!"
   ]
  },
  {
   "cell_type": "code",
   "execution_count": 2,
   "metadata": {
    "collapsed": true
   },
   "outputs": [],
   "source": [
    "# %load '/home/cody/Physics 331/Textbook Programs/Chapter 2/bisect.py'\n",
    "import numpy as np\n",
    "def bisect(func_name, xL, xR):\n",
    "    \"\"\"\n",
    "    Find the solution the input equation f(x) = 0 for some input function. Start\n",
    "    with the interval xL xR, and return a solution with a relative error\n",
    "    0.5e-5.\n",
    "\n",
    "    Inputs\n",
    "    ----------\n",
    "    func_name: This is the name of the function that I want to find roots for\n",
    "\n",
    "    xL:        Smaller 'x' value I want to evaluate func_name at\n",
    "\n",
    "    xR:        Higher 'x' value I want to evaluate func_name at\n",
    "\n",
    "    Output\n",
    "    ----------\n",
    "    x_zero: 'x' value that returns func_name(x) = 0\n",
    "    \"\"\"\n",
    "    fL = func_name(xL)\n",
    "    fR = func_name(xR)\n",
    "    #print(\"Function at the left: {} \\nFunction at the right: {} \".format(fL, fR))\n",
    "    if fL * fR > 0:     # Same sign on both sides\n",
    "        return print(\"Both values give the same sign.\") #Exit if inputs are wrong\n",
    "\n",
    "    while np.abs( xR - xL ) > 1.0e-5 * np.max(np.abs([xL,xR])):\n",
    "        xMP = 0.5*(xL + xR)\n",
    "        fMP = func_name(xMP)\n",
    "\n",
    "        if fMP == 0:       # Got lucky and found the root exactly\n",
    "            return xMP\n",
    "\n",
    "        if fMP * fR > 0:\n",
    "            xR = xMP\n",
    "            fR = fMP\n",
    "\n",
    "        else:\n",
    "            xL = xMP\n",
    "            fL = fMP\n",
    "    x_zero = 0.5 * (xL + xR)\n",
    "\n",
    "    return x_zero\n"
   ]
  },
  {
   "cell_type": "markdown",
   "metadata": {},
   "source": [
    "Don't worry about the above program right now. We'll go over it in detail in Chapter 2, but for now just accept that it works, and it can solve algebraic equations. "
   ]
  },
  {
   "cell_type": "markdown",
   "metadata": {},
   "source": [
    "I want to write a python function for the equation I want to solve."
   ]
  },
  {
   "cell_type": "code",
   "execution_count": 3,
   "metadata": {
    "collapsed": true
   },
   "outputs": [],
   "source": [
    "import numpy as np\n",
    "def function(theta):\n",
    "    x_launch = np.array([0, 1.778])\n",
    "    x_sz = np.array([18.44, .762])\n",
    "    v_0 = 22.35\n",
    "    delta_y = x_sz[1] - x_launch[1]\n",
    "    delta_x = x_sz[0] - x_launch[0]\n",
    "    \n",
    "    return delta_x * np.tan(theta) + 0.5 * (-9.8) * (delta_x / (v_0 * np.cos(theta)))**2 - delta_y"
   ]
  },
  {
   "cell_type": "code",
   "execution_count": 26,
   "metadata": {},
   "outputs": [
    {
     "data": {
      "image/png": "[encoded data removed]",
      "text/plain": [
       "<Figure size 432x288 with 1 Axes>"
      ]
     },
     "metadata": {},
     "output_type": "display_data"
    }
   ],
   "source": [
    "import matplotlib.pyplot as plt\n",
    "foo = np.linspace(-np.pi/4, np.pi/4, 100)\n",
    "plt.plot(foo,function(foo))\n",
    "plt.hlines(y=0, xmax= np.pi/4, xmin=-np.pi/4, linestyles='dashed')\n",
    "plt.xlabel('Launch Angle')\n",
    "plt.ylabel('function')\n",
    "plt.show()"
   ]
  },
  {
   "cell_type": "markdown",
   "metadata": {},
   "source": [
    "By plotting the function I'm trying to solve for I can get a general idea of where the solution should be (where the plot crosses the 'x' axis). Now I can use the program bisect to solve for theta"
   ]
  },
  {
   "cell_type": "code",
   "execution_count": 27,
   "metadata": {},
   "outputs": [
    {
     "name": "stdout",
     "output_type": "stream",
     "text": [
      "0.1280828475952148 7.338606595223153\n"
     ]
    }
   ],
   "source": [
    "theta_launch = bisect(function, 0, 0.3)\n",
    "print(theta_launch, np.rad2deg(theta_launch))"
   ]
  },
  {
   "cell_type": "markdown",
   "metadata": {},
   "source": [
    "This should be the angle that I want to throw the ball at to get a strike. To double check this Lets plot the trajectory of the ball. "
   ]
  },
  {
   "cell_type": "code",
   "execution_count": 28,
   "metadata": {
    "collapsed": true
   },
   "outputs": [],
   "source": [
    "t =np.linspace(0,1,100)\n",
    "x_launch = np.array([0, 1.778])\n",
    "v_0 = 22.35\n",
    "x = x_launch[0] + v_0 * np.cos(theta_launch)*t\n",
    "y = x_launch[1] + v_0 * np.sin(theta_launch)*t + 0.5 * (-9.8) * t**2"
   ]
  },
  {
   "cell_type": "code",
   "execution_count": 29,
   "metadata": {},
   "outputs": [
    {
     "data": {
      "text/plain": [
       "[<matplotlib.lines.Line2D at 0x7f3ed86bb9e8>]"
      ]
     },
     "execution_count": 29,
     "metadata": {},
     "output_type": "execute_result"
    },
    {
     "data": {
      "image/png": "[encoded data removed]",
      "text/plain": [
       "<Figure size 432x288 with 1 Axes>"
      ]
     },
     "metadata": {},
     "output_type": "display_data"
    }
   ],
   "source": [
    "plt.plot(x,y)\n",
    "plt.ylim(0,2.5)\n",
    "plt.xlim(-1,19)\n",
    "plt.plot(x_sz[0],x_sz[1], 'x', color = 'red')"
   ]
  },
  {
   "cell_type": "markdown",
   "metadata": {},
   "source": [
    "The red x is the strike point, and our trajectory passes right through it!"
   ]
  },
  {
   "cell_type": "markdown",
   "metadata": {},
   "source": [
    "### b)"
   ]
  },
  {
   "cell_type": "markdown",
   "metadata": {},
   "source": [
    "Part 'b' is the exact same process but our initial conditions are slightly different. So to do this I'll just rewrite 'function'"
   ]
  },
  {
   "cell_type": "code",
   "execution_count": 30,
   "metadata": {
    "collapsed": true
   },
   "outputs": [],
   "source": [
    "import numpy as np\n",
    "def function_b(theta):\n",
    "    x_launch = np.array([0, 1.9818]) #Initial position (m)\n",
    "    x_sz = np.array([18.44, .762]) #Final position (m) \n",
    "    v_0 = 45.06 #Throwing speed (m/s)\n",
    "    delta_y = x_sz[1] - x_launch[1]\n",
    "    delta_x = x_sz[0] - x_launch[0]\n",
    "    \n",
    "    return delta_x * np.tan(theta) + 0.5 * (-9.8) * (delta_x / (v_0 * np.cos(theta)))**2 - delta_y"
   ]
  },
  {
   "cell_type": "code",
   "execution_count": 33,
   "metadata": {},
   "outputs": [
    {
     "data": {
      "image/png": "[encoded data removed]",
      "text/plain": [
       "<Figure size 432x288 with 1 Axes>"
      ]
     },
     "metadata": {},
     "output_type": "display_data"
    }
   ],
   "source": [
    "foo = np.linspace(-np.pi/4, np.pi/4, 100)\n",
    "plt.plot(foo,function_b(foo))\n",
    "plt.hlines(y=0, xmax= np.pi/4, xmin=-np.pi/4, linestyles='dashed')\n",
    "plt.show()"
   ]
  },
  {
   "cell_type": "code",
   "execution_count": 34,
   "metadata": {},
   "outputs": [
    {
     "name": "stdout",
     "output_type": "stream",
     "text": [
      "-0.021623897552490237 -1.2389580663809612\n"
     ]
    }
   ],
   "source": [
    "theta_launch = bisect(function_b, -.1, 0.3)\n",
    "print(theta_launch, np.rad2deg(theta_launch))"
   ]
  },
  {
   "cell_type": "code",
   "execution_count": 35,
   "metadata": {
    "collapsed": true
   },
   "outputs": [],
   "source": [
    "t =np.linspace(0,1,100)\n",
    "x_launch = np.array([0, 1.9818]) #Initial position (m)\n",
    "v_0 = 45.06 \n",
    "x = x_launch[0] + v_0 * np.cos(theta_launch)*t\n",
    "y = x_launch[1] + v_0 * np.sin(theta_launch)*t + 0.5 * (-9.8) * t**2"
   ]
  },
  {
   "cell_type": "code",
   "execution_count": 38,
   "metadata": {},
   "outputs": [
    {
     "data": {
      "image/png": "[encoded data removed]",
      "text/plain": [
       "<Figure size 432x288 with 1 Axes>"
      ]
     },
     "metadata": {},
     "output_type": "display_data"
    }
   ],
   "source": [
    "plt.plot(x,y)\n",
    "plt.ylim(-0.5,2.5)\n",
    "plt.xlim(-0.5,19)\n",
    "plt.plot(x_sz[0],x_sz[1], 'x', color = 'red')\n",
    "plt.plot([x_launch[0],x_sz[0]], [x_launch[1],x_sz[1]], '.--')\n",
    "plt.show()"
   ]
  },
  {
   "cell_type": "markdown",
   "metadata": {},
   "source": [
    "For fun I added a strait line for comparison"
   ]
  }
 ],
 "metadata": {
  "kernelspec": {
   "display_name": "Python 3",
   "language": "python",
   "name": "python3"
  },
  "language_info": {
   "codemirror_mode": {
    "name": "ipython",
    "version": 3
   },
   "file_extension": ".py",
   "mimetype": "text/x-python",
   "name": "python",
   "nbconvert_exporter": "python",
   "pygments_lexer": "ipython3",
   "version": "3.8.3"
  }
 },
 "nbformat": 4,
 "nbformat_minor": 2
}
