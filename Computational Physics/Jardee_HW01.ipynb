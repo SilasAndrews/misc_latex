{
 "cells": [
  {
   "cell_type": "markdown",
   "metadata": {},
   "source": [
    "Given random array code:"
   ]
  },
  {
   "cell_type": "code",
   "execution_count": 1,
   "metadata": {},
   "outputs": [
    {
     "name": "stdout",
     "output_type": "stream",
     "text": [
      "[44 47 64 67 67  9 83 21 36 87 70 88 88 12 58 65 39 87 46 88 81 37 25 77\n",
      " 72]\n"
     ]
    }
   ],
   "source": [
    "import numpy, math\n",
    "numpy.random.seed(0)\n",
    "foo = numpy.random.randint(0,100,25)\n",
    "print(foo)"
   ]
  },
  {
   "cell_type": "markdown",
   "metadata": {},
   "source": [
    "Question 1: a and b are done at once to condense code."
   ]
  },
  {
   "cell_type": "code",
   "execution_count": 2,
   "metadata": {},
   "outputs": [
    {
     "name": "stdout",
     "output_type": "stream",
     "text": [
      "a.) evens: 666\n",
      "b.) odds:  792\n"
     ]
    }
   ],
   "source": [
    "#initizalizing sums\n",
    "evens = odds = 0 \n",
    "\n",
    "for num in foo:\n",
    "    if num % 2 != 1:     #if even\n",
    "        evens += num\n",
    "    else:                #if odd/otherwise\n",
    "        odds += num\n",
    "        \n",
    "print(\"a.) evens: \" + str(evens))\n",
    "print(\"b.) odds:  \" + str(odds))"
   ]
  },
  {
   "cell_type": "markdown",
   "metadata": {},
   "source": [
    "Question 2: <br>\n",
    "a.) Notice: I build until I am over 100, then I remove the value that is over 100."
   ]
  },
  {
   "cell_type": "code",
   "execution_count": 3,
   "metadata": {},
   "outputs": [
    {
     "name": "stdout",
     "output_type": "stream",
     "text": [
      "[0, 1, 1, 2, 3, 5, 8, 13, 21, 34, 55, 89]\n"
     ]
    }
   ],
   "source": [
    "fib_num = [0,1]\n",
    "    \n",
    "while fib_num[-1] < 100:\n",
    "    fib_num.append(fib_num[len(fib_num) - 2] + fib_num[len(fib_num) -1])\n",
    "    \n",
    "fib_num.pop()\n",
    "print(fib_num)\n"
   ]
  },
  {
   "cell_type": "markdown",
   "metadata": {},
   "source": [
    "b.) I reinstate fib_num and follow the same proceedure to get the fibinocci sequence, but this timeI check if the number is even and add it to the sum. If the last value is even (since it is over 1000), we have to get rid of it from the sum. "
   ]
  },
  {
   "cell_type": "code",
   "execution_count": 4,
   "metadata": {},
   "outputs": [
    {
     "name": "stdout",
     "output_type": "stream",
     "text": [
      "Sum of Fibonacci numbers less than 1000: 798\n"
     ]
    }
   ],
   "source": [
    "fib_num = [0,1]\n",
    "sum = 0\n",
    "\n",
    "while fib_num[-1] < 1000:\n",
    "    fib_num.append(fib_num[len(fib_num) - 2] + fib_num[len(fib_num) -1])\n",
    "    if fib_num[-1]%2 == 0:\n",
    "        sum += fib_num[-1]\n",
    "        \n",
    "if fib_num[-1]%2 == 0:\n",
    "    sum -= fib_num[-1]\n",
    "    \n",
    "print(\"Sum of Fibonacci numbers less than 1000: \" + str(sum))"
   ]
  },
  {
   "cell_type": "markdown",
   "metadata": {},
   "source": [
    "Question 3: \n",
    "Using the kinetic equation $y(t) = y_0 +v_0t +\\frac{1}{2} a t^2$ and $a = -g = -9.8 \\frac{m}{s^2}$, we can get an equation for the fall time pretty easily: $t = \\sqrt{\\frac{2*y_0}{g}}$. We are assuming that the gravitational acceleration is constant and there is no air resistance, etc. acting on the object. After the function is defined we just have to make sure our inputs are fine, using translations provided by google. To help condense the solution I used a for loop to prevent repetitive code. "
   ]
  },
  {
   "cell_type": "code",
   "execution_count": 5,
   "metadata": {},
   "outputs": [
    {
     "name": "stdout",
     "output_type": "stream",
     "text": [
      "To fall       1.00 meters it takes    0.45 seconds.\n",
      "To fall     380.98 meters it takes    8.82 seconds.\n",
      "To fall  408686.00 meters it takes  288.80 seconds.\n"
     ]
    }
   ],
   "source": [
    "def fall_time(height):\n",
    "    return math.sqrt(2*height/9.8)    #g=9.8 m/s\n",
    "\n",
    "a = 1.0           #meters\n",
    "b = 1250/3.281    #ft to meters\n",
    "c = 254*1609      #miles to meters\n",
    "\n",
    "for h in [a, b, c]:\n",
    "    print(\"To fall {:10.2f} meters it takes {:7.2f} seconds.\".format(h, fall_time(h)))"
   ]
  },
  {
   "cell_type": "markdown",
   "metadata": {},
   "source": [
    "Extra Credit:\n",
    "To solve there are a couple special cases dealt with to help make the process quicker, namely 2 and all other evens are thrown out without entering O(n) time. We then start at 3 and check all odd values if they divide into the value evenly (aka, mod returns 0). Since division comes in pairs, the code only has to check up to half of the value, as anything after that would be a compliment to an earlier solution. "
   ]
  },
  {
   "cell_type": "code",
   "execution_count": 6,
   "metadata": {},
   "outputs": [
    {
     "name": "stdout",
     "output_type": "stream",
     "text": [
      "True\n",
      "False\n",
      "True\n",
      "False\n"
     ]
    }
   ],
   "source": [
    "def prime_finder(num):\n",
    "    \n",
    "    #check for evens\n",
    "    state = True\n",
    "    if num == 2:\n",
    "        return state\n",
    "    elif num % 2 == 0:\n",
    "        state = False\n",
    "        \n",
    "    check = 3    \n",
    "    while state & (check < num/2):\n",
    "    #how I miss c's loop structure for this \"for(check = 3; check<num/2; check+=2)\"\n",
    "        if (num % check == 0):\n",
    "            state = False\n",
    "        else:\n",
    "            check += 2;\n",
    "    return state\n",
    "\n",
    "    \n",
    "l = [2, 231, 9851, 9853]\n",
    "for num in l:\n",
    "    print(prime_finder(num))"
   ]
  },
  {
   "cell_type": "code",
   "execution_count": null,
   "metadata": {},
   "outputs": [],
   "source": []
  }
 ],
 "metadata": {
  "kernelspec": {
   "display_name": "Python 3",
   "language": "python",
   "name": "python3"
  },
  "language_info": {
   "codemirror_mode": {
    "name": "ipython",
    "version": 3
   },
   "file_extension": ".py",
   "mimetype": "text/x-python",
   "name": "python",
   "nbconvert_exporter": "python",
   "pygments_lexer": "ipython3",
   "version": "3.8.3"
  }
 },
 "nbformat": 4,
 "nbformat_minor": 4
}
